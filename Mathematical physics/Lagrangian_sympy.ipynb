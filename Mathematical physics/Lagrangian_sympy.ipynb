{
 "cells": [
  {
   "cell_type": "code",
   "execution_count": 2,
   "metadata": {},
   "outputs": [],
   "source": [
    "import numpy as np\n",
    "import sympy as sym\n",
    "import sympy.physics.mechanics as mech\n",
    "mech.init_vprinting()"
   ]
  },
  {
   "cell_type": "code",
   "execution_count": 23,
   "metadata": {},
   "outputs": [],
   "source": [
    "l,m,g,t,w = sym.symbols('l m g t w')\n",
    "s = sym.Function('s')(t)\n",
    "x = (l-s)*sym.cos(w*t)\n",
    "y = (l-s)*sym.sin(w*t)"
   ]
  },
  {
   "cell_type": "code",
   "execution_count": 24,
   "metadata": {},
   "outputs": [],
   "source": [
    "T = sym.Rational(1,2)*m*(x.diff(t)**2+y.diff(t)**2)\n",
    "U = m*g*y"
   ]
  },
  {
   "cell_type": "code",
   "execution_count": 25,
   "metadata": {},
   "outputs": [
    {
     "data": {
      "image/png": "[encoded data removed]",
      "text/latex": [
       "$\\displaystyle \\frac{m \\left(- 2 g l \\operatorname{sin}\\left(t w\\right) + 2 g s \\operatorname{sin}\\left(t w\\right) + l^{2} w^{2} - 2 l w^{2} s + w^{2} s^{2} + \\dot{s}^{2}\\right)}{2}$"
      ],
      "text/plain": [
       "  ⎛                                    2  2        2      2  2    2⎞\n",
       "m⋅⎝-2⋅g⋅l⋅sin(t⋅w) + 2⋅g⋅s⋅sin(t⋅w) + l ⋅w  - 2⋅l⋅w ⋅s + w ⋅s  + ṡ ⎠\n",
       "────────────────────────────────────────────────────────────────────\n",
       "                                 2                                  "
      ]
     },
     "execution_count": 25,
     "metadata": {},
     "output_type": "execute_result"
    }
   ],
   "source": [
    "L = T - U\n",
    "L.simplify()"
   ]
  },
  {
   "cell_type": "code",
   "execution_count": 31,
   "metadata": {},
   "outputs": [
    {
     "data": {
      "image/png": "[encoded data removed]",
      "text/latex": [
       "$\\displaystyle g m \\operatorname{sin}\\left(t w\\right) + \\frac{m \\left(2 w \\left(- w \\left(l - s\\right) \\operatorname{sin}\\left(t w\\right) - \\operatorname{cos}\\left(t w\\right) \\dot{s}\\right) \\operatorname{sin}\\left(t w\\right) - 2 w \\left(w \\left(l - s\\right) \\operatorname{cos}\\left(t w\\right) - \\operatorname{sin}\\left(t w\\right) \\dot{s}\\right) \\operatorname{cos}\\left(t w\\right)\\right)}{2}$"
      ],
      "text/plain": [
       "               m⋅(2⋅w⋅(-w⋅(l - s)⋅sin(t⋅w) - cos(t⋅w)⋅ṡ)⋅sin(t⋅w) - 2⋅w⋅(w⋅(l\n",
       "g⋅m⋅sin(t⋅w) + ───────────────────────────────────────────────────────────────\n",
       "                                                                2             \n",
       "\n",
       " - s)⋅cos(t⋅w) - sin(t⋅w)⋅ṡ)⋅cos(t⋅w))\n",
       "─────────────────────────────────────\n",
       "                                     "
      ]
     },
     "execution_count": 31,
     "metadata": {},
     "output_type": "execute_result"
    }
   ],
   "source": [
    "rhs = L.diff(s)\n",
    "rhs"
   ]
  },
  {
   "cell_type": "code",
   "execution_count": 33,
   "metadata": {},
   "outputs": [
    {
     "data": {
      "image/png": "[encoded data removed]",
      "text/latex": [
       "$\\displaystyle \\frac{m \\left(- w \\left(2 w \\left(l - s\\right) \\operatorname{sin}\\left(t w\\right) + 2 \\operatorname{cos}\\left(t w\\right) \\dot{s}\\right) \\operatorname{sin}\\left(t w\\right) + w \\left(- 2 w \\left(l - s\\right) \\operatorname{cos}\\left(t w\\right) + 2 \\operatorname{sin}\\left(t w\\right) \\dot{s}\\right) \\operatorname{cos}\\left(t w\\right) + \\left(2 w^{2} \\left(l - s\\right) \\operatorname{sin}\\left(t w\\right) + 4 w \\operatorname{cos}\\left(t w\\right) \\dot{s} + 2 \\operatorname{sin}\\left(t w\\right) \\ddot{s}\\right) \\operatorname{sin}\\left(t w\\right) + \\left(2 w^{2} \\left(l - s\\right) \\operatorname{cos}\\left(t w\\right) - 4 w \\operatorname{sin}\\left(t w\\right) \\dot{s} + 2 \\operatorname{cos}\\left(t w\\right) \\ddot{s}\\right) \\operatorname{cos}\\left(t w\\right)\\right)}{2}$"
      ],
      "text/plain": [
       "  ⎛                                                                           \n",
       "m⋅⎝-w⋅(2⋅w⋅(l - s)⋅sin(t⋅w) + 2⋅cos(t⋅w)⋅ṡ)⋅sin(t⋅w) + w⋅(-2⋅w⋅(l - s)⋅cos(t⋅\n",
       "──────────────────────────────────────────────────────────────────────────────\n",
       "                                                                              \n",
       "\n",
       "                             ⎛   2                                            \n",
       "w) + 2⋅sin(t⋅w)⋅ṡ)⋅cos(t⋅w) + ⎝2⋅w ⋅(l - s)⋅sin(t⋅w) + 4⋅w⋅cos(t⋅w)⋅ṡ + 2⋅si\n",
       "──────────────────────────────────────────────────────────────────────────────\n",
       "                                         2                                    \n",
       "\n",
       "     ⎞            ⎛   2                                                 ⎞     \n",
       "n(t⋅w)⋅s̈⎠⋅sin(t⋅w) + ⎝2⋅w ⋅(l - s)⋅cos(t⋅w) - 4⋅w⋅sin(t⋅w)⋅ṡ + 2⋅cos(t⋅w)⋅s̈\n",
       "──────────────────────────────────────────────────────────────────────────────\n",
       "                                                                              \n",
       "\n",
       "    ⎞\n",
       "⎠⋅cos(t⋅w)⎠\n",
       "─────\n",
       "     "
      ]
     },
     "execution_count": 33,
     "metadata": {},
     "output_type": "execute_result"
    }
   ],
   "source": [
    "lhs = L.diff(s.diff(t)).diff(t)\n",
    "lhs"
   ]
  },
  {
   "cell_type": "code",
   "execution_count": 36,
   "metadata": {},
   "outputs": [],
   "source": [
    "eqn1 = sym.solve(sym.Eq(rhs,lhs),s.diff(t,2))[0]"
   ]
  },
  {
   "cell_type": "code",
   "execution_count": 51,
   "metadata": {},
   "outputs": [
    {
     "data": {
      "image/png": "[encoded data removed]",
      "text/latex": [
       "$\\displaystyle - g \\operatorname{sin}\\left(t w\\right) + l w^{2} - w^{2} s + \\ddot{s}$"
      ],
      "text/plain": [
       "                 2    2      \n",
       "-g⋅sin(t⋅w) + l⋅w  - w ⋅s + s̈"
      ]
     },
     "execution_count": 51,
     "metadata": {},
     "output_type": "execute_result"
    }
   ],
   "source": [
    "eqn = s.diff(t,2) - eqn1\n",
    "eqn"
   ]
  },
  {
   "cell_type": "code",
   "execution_count": 54,
   "metadata": {},
   "outputs": [
    {
     "data": {
      "image/png": "[encoded data removed]",
      "text/latex": [
       "$\\displaystyle C_{1} e^{- t w} + C_{2} e^{t w} - \\frac{g \\operatorname{sin}\\left(t w\\right)}{2 w^{2}} + l$"
      ],
      "text/plain": [
       "    -t⋅w       t⋅w   g⋅sin(t⋅w)    \n",
       "C₁⋅ℯ     + C₂⋅ℯ    - ────────── + l\n",
       "                           2       \n",
       "                        2⋅w        "
      ]
     },
     "execution_count": 54,
     "metadata": {},
     "output_type": "execute_result"
    }
   ],
   "source": [
    "tt = sym.dsolve(eqn,s).rhs\n",
    "tt"
   ]
  },
  {
   "cell_type": "code",
   "execution_count": 64,
   "metadata": {},
   "outputs": [
    {
     "data": {
      "image/png": "[encoded data removed]",
      "text/latex": [
       "$\\displaystyle \\left\\{ C_{1} : - \\frac{g + 2 l w^{2}}{4 w^{2}}, \\  C_{2} : - \\frac{- g + 2 l w^{2}}{4 w^{2}}\\right\\}$"
      ],
      "text/plain": [
       "⎧     ⎛         2⎞        ⎛          2⎞ ⎫\n",
       "⎪    -⎝g + 2⋅l⋅w ⎠       -⎝-g + 2⋅l⋅w ⎠ ⎪\n",
       "⎨C₁: ──────────────, C₂: ───────────────⎬\n",
       "⎪            2                    2     ⎪\n",
       "⎩         4⋅w                  4⋅w      ⎭"
      ]
     },
     "execution_count": 64,
     "metadata": {},
     "output_type": "execute_result"
    }
   ],
   "source": [
    "const = sym.solve([tt.subs(t,0),tt.diff(t).subs(t,0)])[0]\n",
    "const"
   ]
  },
  {
   "cell_type": "code",
   "execution_count": 65,
   "metadata": {},
   "outputs": [
    {
     "data": {
      "image/png": "[encoded data removed]",
      "text/latex": [
       "$\\displaystyle - \\frac{g \\operatorname{sin}\\left(t w\\right)}{2 w^{2}} + l - \\frac{\\left(- g + 2 l w^{2}\\right) e^{t w}}{4 w^{2}} - \\frac{\\left(g + 2 l w^{2}\\right) e^{- t w}}{4 w^{2}}$"
      ],
      "text/plain": [
       "                   ⎛          2⎞  t⋅w   ⎛         2⎞  -t⋅w\n",
       "  g⋅sin(t⋅w)       ⎝-g + 2⋅l⋅w ⎠⋅ℯ      ⎝g + 2⋅l⋅w ⎠⋅ℯ    \n",
       "- ────────── + l - ────────────────── - ──────────────────\n",
       "        2                    2                    2       \n",
       "     2⋅w                  4⋅w                  4⋅w        "
      ]
     },
     "execution_count": 65,
     "metadata": {},
     "output_type": "execute_result"
    }
   ],
   "source": [
    "fa = tt.subs(const)\n",
    "fa"
   ]
  },
  {
   "cell_type": "code",
   "execution_count": 66,
   "metadata": {},
   "outputs": [
    {
     "data": {
      "image/png": "[encoded data removed]",
      "text/latex": [
       "$\\displaystyle \\frac{g e^{t w}}{4 w^{2}} - \\frac{g \\operatorname{sin}\\left(t w\\right)}{2 w^{2}} - \\frac{g e^{- t w}}{4 w^{2}} - \\frac{l e^{t w}}{2} + l - \\frac{l e^{- t w}}{2}$"
      ],
      "text/plain": [
       "   t⋅w                   -t⋅w      t⋅w          -t⋅w\n",
       "g⋅ℯ      g⋅sin(t⋅w)   g⋅ℯ       l⋅ℯ          l⋅ℯ    \n",
       "────── - ────────── - ─────── - ────── + l - ───────\n",
       "    2          2           2      2             2   \n",
       " 4⋅w        2⋅w         4⋅w                         "
      ]
     },
     "execution_count": 66,
     "metadata": {},
     "output_type": "execute_result"
    }
   ],
   "source": [
    "fa.simplify()"
   ]
  },
  {
   "cell_type": "code",
   "execution_count": 67,
   "metadata": {},
   "outputs": [
    {
     "data": {
      "image/png": "[encoded data removed]",
      "text/latex": [
       "$\\displaystyle - \\frac{g \\operatorname{sin}\\left(t w\\right)}{2 w^{2}} + l - \\frac{\\left(- g + 2 l w^{2}\\right) e^{t w}}{4 w^{2}} - \\frac{\\left(g + 2 l w^{2}\\right) e^{- t w}}{4 w^{2}}$"
      ],
      "text/plain": [
       "                   ⎛          2⎞  t⋅w   ⎛         2⎞  -t⋅w\n",
       "  g⋅sin(t⋅w)       ⎝-g + 2⋅l⋅w ⎠⋅ℯ      ⎝g + 2⋅l⋅w ⎠⋅ℯ    \n",
       "- ────────── + l - ────────────────── - ──────────────────\n",
       "        2                    2                    2       \n",
       "     2⋅w                  4⋅w                  4⋅w        "
      ]
     },
     "execution_count": 67,
     "metadata": {},
     "output_type": "execute_result"
    }
   ],
   "source": [
    "fa.trigsimp()"
   ]
  },
  {
   "cell_type": "code",
   "execution_count": null,
   "metadata": {},
   "outputs": [],
   "source": []
  }
 ],
 "metadata": {
  "kernelspec": {
   "display_name": "Python 3",
   "language": "python",
   "name": "python3"
  },
  "language_info": {
   "codemirror_mode": {
    "name": "ipython",
    "version": 3
   },
   "file_extension": ".py",
   "mimetype": "text/x-python",
   "name": "python",
   "nbconvert_exporter": "python",
   "pygments_lexer": "ipython3",
   "version": "3.7.4"
  }
 },
 "nbformat": 4,
 "nbformat_minor": 4
}
